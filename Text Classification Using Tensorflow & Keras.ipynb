{
 "cells": [
  {
   "cell_type": "code",
   "execution_count": 1,
   "metadata": {},
   "outputs": [
    {
     "name": "stdout",
     "output_type": "stream",
     "text": [
      "2.0.0-rc0\n"
     ]
    }
   ],
   "source": [
    "import csv\n",
    "import tensorflow as tf\n",
    "import numpy as np\n",
    "from tensorflow.keras.preprocessing.text import Tokenizer\n",
    "from tensorflow.keras.preprocessing.sequence import pad_sequences\n",
    "from nltk.corpus import stopwords\n",
    "STOPWORDS = set(stopwords.words('english'))\n",
    "\n",
    "print(tf.__version__)"
   ]
  },
  {
   "cell_type": "code",
   "execution_count": 2,
   "metadata": {},
   "outputs": [],
   "source": [
    "vocab_size = 5000\n",
    "embedding_dim = 64\n",
    "max_lenght = 200\n",
    "trunc_type = 'post'\n",
    "padding_type = 'post'\n",
    "oov_tok = '<OOV>'\n",
    "training_portion = .8"
   ]
  },
  {
   "cell_type": "code",
   "execution_count": 3,
   "metadata": {},
   "outputs": [
    {
     "name": "stdout",
     "output_type": "stream",
     "text": [
      "2225\n",
      "2225\n"
     ]
    }
   ],
   "source": [
    "articles = []\n",
    "labels = []\n",
    "\n",
    "with open ('text.csv', 'r') as csvfile:\n",
    "    reader = csv.reader(csvfile, delimiter=',')\n",
    "    next(reader)\n",
    "    for row in reader:\n",
    "        labels.append(row[0])\n",
    "        article = row[1]\n",
    "        for word in STOPWORDS:\n",
    "            token = ' '+ word + ' '\n",
    "            article = article.replace(token, ' ')\n",
    "            article = article.replace(' ', ' ')\n",
    "        articles.append(article)\n",
    "    \n",
    "print(len(labels))\n",
    "print(len(articles))"
   ]
  },
  {
   "cell_type": "code",
   "execution_count": 4,
   "metadata": {},
   "outputs": [
    {
     "name": "stdout",
     "output_type": "stream",
     "text": [
      "1780\n",
      "1780\n",
      "1780\n",
      "445\n",
      "445\n"
     ]
    }
   ],
   "source": [
    "train_size = int(len(articles) * training_portion)\n",
    "\n",
    "train_articles = articles[0: train_size]\n",
    "train_labels = labels[0: train_size]\n",
    "\n",
    "validation_articles = articles[train_size:]\n",
    "validation_labels = labels[train_size:]\n",
    "\n",
    "print(train_size)\n",
    "print(len(train_articles))\n",
    "print(len(train_labels))\n",
    "print(len(validation_articles))\n",
    "print(len(validation_labels))"
   ]
  },
  {
   "cell_type": "code",
   "execution_count": 5,
   "metadata": {},
   "outputs": [
    {
     "data": {
      "text/plain": [
       "{'<OOV>': 1,\n",
       " 'said': 2,\n",
       " 'mr': 3,\n",
       " 'would': 4,\n",
       " 'year': 5,\n",
       " 'also': 6,\n",
       " 'people': 7,\n",
       " 'new': 8,\n",
       " 'us': 9,\n",
       " 'one': 10}"
      ]
     },
     "execution_count": 5,
     "metadata": {},
     "output_type": "execute_result"
    }
   ],
   "source": [
    "tokenizer = Tokenizer(num_words=vocab_size, oov_token = oov_tok)\n",
    "tokenizer.fit_on_texts(train_articles)\n",
    "word_index = tokenizer.word_index\n",
    "dict(list(word_index.items())[0:10])"
   ]
  },
  {
   "cell_type": "code",
   "execution_count": 6,
   "metadata": {},
   "outputs": [
    {
     "name": "stdout",
     "output_type": "stream",
     "text": [
      "[2452, 1, 1, 322, 66, 4158, 2452, 580, 607, 562, 322, 186, 99, 226, 1134, 174, 2187, 1678, 840, 1, 667, 1, 210, 2, 1252, 1758, 3576, 24, 713, 192, 990, 1, 667, 210, 2452, 23, 37, 629, 1132, 4347, 1447, 105, 667, 1163, 1, 298, 522, 61, 667, 2452, 41, 10, 691, 96, 1, 29, 1, 1679, 1252, 729, 4347, 183, 836, 2529, 375, 2743, 1027, 2365, 1862, 822, 1180, 1165, 481, 946, 28, 51, 322, 15, 356, 3298, 27, 2743, 6, 1, 322, 1, 3576, 59, 11, 1, 169, 1017, 365, 667, 2, 340, 215, 150, 1152, 1, 1, 1, 14, 14, 1533, 70, 1, 1263, 61, 61, 2913, 432, 298, 9, 905, 148, 472]\n"
     ]
    }
   ],
   "source": [
    "train_sequence = tokenizer.texts_to_sequences(train_articles)\n",
    "print(train_sequence[50])"
   ]
  },
  {
   "cell_type": "code",
   "execution_count": 8,
   "metadata": {},
   "outputs": [
    {
     "name": "stdout",
     "output_type": "stream",
     "text": [
      "425\n",
      "200\n",
      "192\n",
      "200\n",
      "186\n",
      "200\n"
     ]
    }
   ],
   "source": [
    "train_padded = pad_sequences(train_sequence, maxlen=max_lenght,\n",
    "                             padding=padding_type, truncating=trunc_type)\n",
    "\n",
    "print(len(train_sequence[0]))\n",
    "print(len(train_padded[0]))\n",
    "\n",
    "print(len(train_sequence[1]))\n",
    "print(len(train_padded[1]))\n",
    "\n",
    "print(len(train_sequence[10]))\n",
    "print(len(train_padded[10]))"
   ]
  },
  {
   "cell_type": "code",
   "execution_count": 9,
   "metadata": {},
   "outputs": [
    {
     "name": "stdout",
     "output_type": "stream",
     "text": [
      "[2431    1  225 4994   22  641  587  225 4994    1    1 1661    1    1\n",
      " 2431   22  565    1    1  140  278    1  140  278  796  823  662 2307\n",
      "    1 1145 1692    1 1719 4995    1    1    1    1    1 4737    1    1\n",
      "  122 4513    1    2 2873 1505  352 4738    1   52  341    1  352 2171\n",
      " 3961   41   22 3794    1    1    1    1  542    1    1    1  835  631\n",
      " 2366  347 4739    1  365   22    1  787 2367    1 4301  138   10    1\n",
      " 3663  682 3531    1   22    1  414  823  662    1   90   13  633    1\n",
      "  225 4994    1  600    1 1692 1022    1 4996  808 1863  117    1    1\n",
      "    1 2974   22    1   99  278    1 1606 4997  542  492    1 1444 4740\n",
      "  778 1320    1 1860   10   33  641  319    1   62  478  565  301 1506\n",
      "   22  479    1    1 1664    1  797    1 3066    1 1364    6    1 2431\n",
      "  565   22 2971 4734    1    1    1    1    1  850   39 1823  675  297\n",
      "   26  979    1  882   22  361   22   13  301 1506 1342  374   20   63\n",
      "  883 1097 4302  247    0    0    0    0    0    0    0    0    0    0\n",
      "    0    0    0    0]\n"
     ]
    }
   ],
   "source": [
    "print(train_padded[10])"
   ]
  },
  {
   "cell_type": "code",
   "execution_count": 11,
   "metadata": {},
   "outputs": [
    {
     "name": "stdout",
     "output_type": "stream",
     "text": [
      "445\n",
      "(445, 200)\n"
     ]
    }
   ],
   "source": [
    "validation_sequences = tokenizer.texts_to_sequences(validation_articles)\n",
    "validation_padded = pad_sequences(validation_sequences,\n",
    "                                 maxlen=max_lenght, padding=padding_type,\n",
    "                                 truncating=trunc_type)\n",
    "\n",
    "print(len(validation_sequences))\n",
    "print(validation_padded.shape)"
   ]
  },
  {
   "cell_type": "code",
   "execution_count": 14,
   "metadata": {},
   "outputs": [
    {
     "name": "stdout",
     "output_type": "stream",
     "text": [
      "[4]\n",
      "[2]\n",
      "[1]\n",
      "(1780, 1)\n",
      "[5]\n",
      "[4]\n",
      "[3]\n",
      "(445, 1)\n"
     ]
    }
   ],
   "source": [
    "label_tokenizer = Tokenizer()\n",
    "label_tokenizer.fit_on_texts(labels)\n",
    "\n",
    "training_label_seq = np.array(label_tokenizer.texts_to_sequences(train_labels))\n",
    "validation_label_seq = np.array(label_tokenizer.texts_to_sequences(validation_labels))\n",
    "                              \n",
    "                              \n",
    "print(training_label_seq[0])\n",
    "print(training_label_seq[1])\n",
    "print(training_label_seq[2])\n",
    "print(training_label_seq.shape)\n",
    "                              \n",
    "print(validation_label_seq[0])\n",
    "print(validation_label_seq[1])\n",
    "print(validation_label_seq[2])\n",
    "print(validation_label_seq.shape)"
   ]
  },
  {
   "cell_type": "code",
   "execution_count": 16,
   "metadata": {},
   "outputs": [
    {
     "name": "stdout",
     "output_type": "stream",
     "text": [
      "lewsey <OOV> <OOV> try england josh lewsey claimed denied late try side six nations loss ireland wasps wing insisted <OOV> ball <OOV> line said referee jonathan kaplan made wrong decision positive <OOV> ball line lewsey told bbc sport certainly turnover driven put ball ground <OOV> went let go ball lewsey added one irish players <OOV> back <OOV> surprise referee gave turnover far concerned incident mark cueto effort charlie hodgson cross field kick led looked like good try two key elements game cueto also <OOV> try <OOV> kaplan think could <OOV> without doubt behind ball said sale player move planned <OOV> <OOV> <OOV> time time again say <OOV> decisions go go you today went us tough international level ? ? ? ? ? ? ? ? ? ? ? ? ? ? ? ? ? ? ? ? ? ? ? ? ? ? ? ? ? ? ? ? ? ? ? ? ? ? ? ? ? ? ? ? ? ? ? ? ? ? ? ? ? ? ? ? ? ? ? ? ? ? ? ? ? ? ? ? ? ? ? ? ? ? ? ? ? ? ? ? ? ? ?\n",
      "----\n",
      "lewsey puzzle disallowed try england josh lewsey claimed denied late try side six nations loss ireland.  wasps wing insisted grounded ball bundled line said referee jonathan kaplan made wrong decision.  positive touched ball line   lewsey told bbc sport.  certainly turnover.  driven put ball ground. whistle went let go ball.  lewsey added:  one irish players scooped back whistle surprise referee gave turnover.  far concerned  incident mark cueto effort charlie hodgson cross-field kick led looked like good try two key elements game.   cueto also puzzled try disallowed kaplan.  think could offside  without doubt  behind ball   said sale player.  move planned technique  cuff. rehearse time time again.  say robbed  decisions go go you. today went us tough international level.\n"
     ]
    }
   ],
   "source": [
    "reverse_word_index = dict([(value, key) for (key, value) in word_index.items() ])\n",
    "\n",
    "#reverse_word_index\n",
    "\n",
    "def decode_articles(text):\n",
    "    return ' '.join([reverse_word_index.get(i, '?') for i in text])\n",
    "\n",
    "print(decode_articles(train_padded[50]))\n",
    "print('----')\n",
    "print(train_articles[50])"
   ]
  },
  {
   "cell_type": "code",
   "execution_count": 17,
   "metadata": {},
   "outputs": [
    {
     "name": "stdout",
     "output_type": "stream",
     "text": [
      "Model: \"sequential\"\n",
      "_________________________________________________________________\n",
      "Layer (type)                 Output Shape              Param #   \n",
      "=================================================================\n",
      "embedding (Embedding)        (None, None, 64)          320000    \n",
      "_________________________________________________________________\n",
      "bidirectional (Bidirectional (None, 128)               66048     \n",
      "_________________________________________________________________\n",
      "dense (Dense)                (None, 64)                8256      \n",
      "_________________________________________________________________\n",
      "dense_1 (Dense)              (None, 6)                 390       \n",
      "=================================================================\n",
      "Total params: 394,694\n",
      "Trainable params: 394,694\n",
      "Non-trainable params: 0\n",
      "_________________________________________________________________\n"
     ]
    }
   ],
   "source": [
    "model = tf.keras.Sequential([\n",
    "   \n",
    "    tf.keras.layers.Embedding(vocab_size, embedding_dim),\n",
    "    tf.keras.layers.Bidirectional(tf.keras.layers.LSTM(embedding_dim)),\n",
    "    tf.keras.layers.Dense(embedding_dim, activation='relu'),\n",
    "    tf.keras.layers.Dense(6, activation='softmax')\n",
    "])\n",
    "model.summary()"
   ]
  },
  {
   "cell_type": "code",
   "execution_count": 18,
   "metadata": {},
   "outputs": [
    {
     "name": "stdout",
     "output_type": "stream",
     "text": [
      "{'sport', 'tech', 'politics', 'entertainment', 'business'}\n"
     ]
    }
   ],
   "source": [
    "print(set(labels))"
   ]
  },
  {
   "cell_type": "code",
   "execution_count": 20,
   "metadata": {},
   "outputs": [
    {
     "name": "stdout",
     "output_type": "stream",
     "text": [
      "Train on 1780 samples, validate on 445 samples\n",
      "Epoch 1/10\n",
      "1780/1780 - 16s - loss: 1.5640 - accuracy: 0.3006 - val_loss: 1.3418 - val_accuracy: 0.4674\n",
      "Epoch 2/10\n",
      "1780/1780 - 8s - loss: 0.9865 - accuracy: 0.6118 - val_loss: 0.7717 - val_accuracy: 0.7169\n",
      "Epoch 3/10\n",
      "1780/1780 - 8s - loss: 0.3927 - accuracy: 0.8826 - val_loss: 0.3442 - val_accuracy: 0.8854\n",
      "Epoch 4/10\n",
      "1780/1780 - 8s - loss: 0.0963 - accuracy: 0.9792 - val_loss: 0.3319 - val_accuracy: 0.8989\n",
      "Epoch 5/10\n",
      "1780/1780 - 8s - loss: 0.0577 - accuracy: 0.9826 - val_loss: 0.2780 - val_accuracy: 0.9236\n",
      "Epoch 6/10\n",
      "1780/1780 - 8s - loss: 0.0079 - accuracy: 0.9994 - val_loss: 0.2927 - val_accuracy: 0.9393\n",
      "Epoch 7/10\n",
      "1780/1780 - 7s - loss: 0.0032 - accuracy: 1.0000 - val_loss: 0.2755 - val_accuracy: 0.9416\n",
      "Epoch 8/10\n",
      "1780/1780 - 8s - loss: 0.0195 - accuracy: 0.9955 - val_loss: 0.3165 - val_accuracy: 0.9079\n",
      "Epoch 9/10\n",
      "1780/1780 - 7s - loss: 0.0071 - accuracy: 0.9989 - val_loss: 0.3321 - val_accuracy: 0.9169\n",
      "Epoch 10/10\n",
      "1780/1780 - 8s - loss: 0.0125 - accuracy: 0.9978 - val_loss: 0.3369 - val_accuracy: 0.9258\n"
     ]
    }
   ],
   "source": [
    "model.compile(loss='sparse_categorical_crossentropy', optimizer='adam', metrics=['accuracy'])\n",
    "\n",
    "num_epochs = 10\n",
    "history = model.fit(train_padded, training_label_seq, epochs=num_epochs, \n",
    "                    validation_data = (validation_padded, validation_label_seq), \n",
    "                    verbose=2)"
   ]
  },
  {
   "cell_type": "code",
   "execution_count": 22,
   "metadata": {},
   "outputs": [
    {
     "data": {
      "image/png": "[encoded data removed]",
      "text/plain": [
       "<Figure size 432x288 with 1 Axes>"
      ]
     },
     "metadata": {
      "needs_background": "light"
     },
     "output_type": "display_data"
    },
    {
     "data": {
      "image/png": "[encoded data removed]",
      "text/plain": [
       "<Figure size 432x288 with 1 Axes>"
      ]
     },
     "metadata": {
      "needs_background": "light"
     },
     "output_type": "display_data"
    }
   ],
   "source": [
    "import matplotlib.pyplot as plt\n",
    "%matplotlib inline\n",
    "\n",
    "def plot_graphs(history, string):\n",
    "  plt.plot(history.history[string])\n",
    "  plt.plot(history.history['val_'+string])\n",
    "  plt.xlabel(\"Epochs\")\n",
    "  plt.ylabel(string)\n",
    "  plt.legend([string, 'val_'+string])\n",
    "  plt.show()\n",
    "  \n",
    "plot_graphs(history, \"accuracy\")\n",
    "plot_graphs(history, \"loss\")"
   ]
  },
  {
   "cell_type": "code",
   "execution_count": null,
   "metadata": {},
   "outputs": [],
   "source": []
  }
 ],
 "metadata": {
  "kernelspec": {
   "display_name": "Python 3",
   "language": "python",
   "name": "python3"
  },
  "language_info": {
   "codemirror_mode": {
    "name": "ipython",
    "version": 3
   },
   "file_extension": ".py",
   "mimetype": "text/x-python",
   "name": "python",
   "nbconvert_exporter": "python",
   "pygments_lexer": "ipython3",
   "version": "3.7.4"
  }
 },
 "nbformat": 4,
 "nbformat_minor": 2
}
